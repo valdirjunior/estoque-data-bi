{
 "cells": [
  {
   "cell_type": "code",
   "execution_count": null,
   "metadata": {},
   "outputs": [],
   "source": [
    "# analise_financeira.ipynb\n",
    "\n",
    "import pandas as pd\n",
    "import matplotlib.pyplot as plt\n",
    "\n",
    "# Carregar os dados\n",
    "movimentacoes_df = pd.read_csv('../data/extracted/movimentacoes.csv')\n",
    "movimentacoes_item_df = pd.read_csv('../data/extracted/movimentacoes_itens.csv')\n",
    "produtos_df = pd.read_csv('../data/extracted/produtos.csv')\n",
    "\n",
    "# Mesclando dados de movimentações com itens de movimentação\n",
    "movimentacoes_merged_df = movimentacoes_item_df.merge(movimentacoes_df, left_on='movimentacao_id', right_on='id')\n",
    "movimentacoes_merged_df = movimentacoes_merged_df.merge(produtos_df, left_on='produto_id', right_on='id', suffixes=('_mov', '_prod'))\n",
    "\n",
    "# Calculando receita e lucro por período\n",
    "movimentacoes_merged_df['criado_em'] = pd.to_datetime(movimentacoes_merged_df['criado_em'])\n",
    "movimentacoes_merged_df['month'] = movimentacoes_merged_df['criado_em'].dt.to_period('M')\n",
    "movimentacoes_merged_df['lucro'] = movimentacoes_merged_df['preco_venda'] - movimentacoes_merged_df['preco_custo']\n",
    "\n",
    "monthly_finance = movimentacoes_merged_df.groupby('month').agg({\n",
    "    'preco_venda': 'sum',\n",
    "    'preco_custo': 'sum',\n",
    "    'lucro': 'sum'\n",
    "}).reset_index()\n",
    "\n",
    "# Plotar análise financeira\n",
    "plt.figure(figsize=(10, 6))\n",
    "plt.plot(monthly_finance['month'].astype(str), monthly_finance['preco_venda'], marker='o', label='Receita')\n",
    "plt.plot(monthly_finance['month'].astype(str), monthly_finance['preco_custo'], marker='o', label='Custo')\n",
    "plt.plot(monthly_finance['month'].astype(str), monthly_finance['lucro'], marker='o', label='Lucro')\n",
    "plt.title('Análise Financeira Mensal')\n",
    "plt.xlabel('Mês')\n",
    "plt.ylabel('Valor')\n",
    "plt.xticks(rotation=45)\n",
    "plt.legend()\n",
    "plt.grid(True)\n",
    "plt.show()\n",
    "\n",
    "# Salvar resultados em CSV\n",
    "monthly_finance.to_csv('../data/processed/analise_financeira.csv', index=False)\n"
   ]
  }
 ],
 "metadata": {
  "language_info": {
   "name": "python"
  }
 },
 "nbformat": 4,
 "nbformat_minor": 2
}
