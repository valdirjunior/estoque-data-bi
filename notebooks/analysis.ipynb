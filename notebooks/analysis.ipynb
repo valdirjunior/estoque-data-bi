{
 "cells": [
  {
   "cell_type": "code",
   "execution_count": null,
   "metadata": {},
   "outputs": [],
   "source": [
    "import pandas as pd\n",
    "\n",
    "# Carregar os dados\n",
    "produtos_df = pd.read_csv('../data/extracted/produtos.csv')\n",
    "movimentacoes_itens_df = pd.read_csv('../data/extracted/movimentacoes_itens.csv')\n",
    "\n",
    "# Exibir as primeiras linhas dos dataframes\n",
    "print(produtos_df.head())\n",
    "print(movimentacoes_itens_df.head())\n",
    "\n",
    "# Visão geral dos produtos\n",
    "print(\"Quantidade total de produtos:\", produtos_df.shape[0])\n",
    "print(\"Produtos com maior quantidade em estoque:\")\n",
    "print(produtos_df.nlargest(5, 'quantidade'))\n",
    "print(\"Produtos com menor quantidade em estoque:\")\n",
    "print(produtos_df.nsmallest(5, 'quantidade'))\n",
    "\n",
    "# Distribuição dos preços de custo e venda\n",
    "produtos_df[['preco_custo', 'preco_venda']].describe()\n"
   ]
  },
  {
   "cell_type": "code",
   "execution_count": null,
   "metadata": {},
   "outputs": [],
   "source": [
    "# Conversão das colunas de data para datetime\n",
    "produtos_df['criado_em'] = pd.to_datetime(produtos_df['criado_em'])\n",
    "produtos_df['atualizado_em'] = pd.to_datetime(produtos_df['atualizado_em'])\n",
    "movimentacoes_itens_df['criado_em'] = pd.to_datetime(movimentacoes_itens_df['criado_em'])\n",
    "\n",
    "# Volume de movimentações por período\n",
    "movimentacoes_itens_df.set_index('criado_em', inplace=True)\n",
    "movimentacoes_por_mes = movimentacoes_itens_df.resample('M').sum()['quantidade']\n",
    "\n",
    "movimentacoes_por_mes.plot(title='Volume de Movimentações por Mês')\n",
    "\n",
    "# Produto mais movimentado\n",
    "produto_mais_movimentado = movimentacoes_itens_df.groupby('produto_id')['quantidade'].sum().idxmax()\n",
    "print(\"Produto mais movimentado (ID):\", produto_mais_movimentado)\n",
    "\n",
    "# Unindo informações de produtos para análises mais detalhadas\n",
    "movimentacoes_itens_df = movimentacoes_itens_df.merge(produtos_df[['id', 'descricao']], left_on='produto_id', right_on='id')\n",
    "produto_mais_movimentado_descricao = movimentacoes_itens_df.loc[movimentacoes_itens_df['produto_id'] == produto_mais_movimentado, 'descricao'].iloc[0]\n",
    "print(\"Produto mais movimentado (Descrição):\", produto_mais_movimentado_descricao)\n"
   ]
  },
  {
   "cell_type": "code",
   "execution_count": null,
   "metadata": {},
   "outputs": [],
   "source": [
    "# Calculando a margem de lucro\n",
    "produtos_df['margem_lucro'] = produtos_df['preco_venda'] - produtos_df['preco_custo']\n",
    "print(\"Produtos com maior margem de lucro:\")\n",
    "print(produtos_df.nlargest(5, 'margem_lucro'))\n",
    "print(\"Produtos com menor margem de lucro:\")\n",
    "print(produtos_df.nsmallest(5, 'margem_lucro'))\n"
   ]
  },
  {
   "cell_type": "code",
   "execution_count": null,
   "metadata": {},
   "outputs": [],
   "source": [
    "import matplotlib.pyplot as plt\n",
    "\n",
    "# Evolução de preços ao longo do tempo\n",
    "produtos_df.set_index('criado_em', inplace=True)\n",
    "produtos_df[['preco_custo', 'preco_venda']].plot(title='Evolução de Preços ao Longo do Tempo')\n",
    "plt.show()\n"
   ]
  }
 ],
 "metadata": {
  "kernelspec": {
   "display_name": "Python 3",
   "language": "python",
   "name": "python3"
  },
  "language_info": {
   "name": "python",
   "version": "3.11.2"
  }
 },
 "nbformat": 4,
 "nbformat_minor": 2
}
