{
 "cells": [
  {
   "cell_type": "code",
   "execution_count": null,
   "metadata": {},
   "outputs": [],
   "source": [
    "# analise_clientes_fornecedores.ipynb\n",
    "\n",
    "import pandas as pd\n",
    "import matplotlib.pyplot as plt\n",
    "\n",
    "# Carregar os dados\n",
    "clientes_fornecedores_df = pd.read_csv('../data/extracted/clientes_fornecedores.csv')\n",
    "movimentacoes_df = pd.read_csv('../data/extracted/movimentacoes.csv')\n",
    "\n",
    "# Análise de volume de compras/vendas por cliente/fornecedor\n",
    "movimentacoes_df['tipo_movimentacao'] = movimentacoes_df['tipo_movimentacao'].str.lower()\n",
    "vendas = movimentacoes_df[movimentacoes_df['tipo_movimentacao'] == 'S']\n",
    "compras = movimentacoes_df[movimentacoes_df['tipo_movimentacao'] == 'E']\n",
    "\n",
    "vendas_por_cliente = vendas['cliente_fornecedor'].value_counts().reset_index()\n",
    "compras_por_fornecedor = compras['cliente_fornecedor'].value_counts().reset_index()\n",
    "\n",
    "vendas_por_cliente.columns = ['cliente_fornecedor', 'num_vendas']\n",
    "compras_por_fornecedor.columns = ['cliente_fornecedor', 'num_compras']\n",
    "\n",
    "# Mesclando com dados de clientes e fornecedores\n",
    "analise_cf_df = clientes_fornecedores_df.merge(vendas_por_cliente, left_on='razao_social', right_on='cliente_fornecedor', how='left').merge(compras_por_fornecedor, left_on='razao_social', right_on='cliente_fornecedor', how='left').fillna(0)\n",
    "\n",
    "# Plotar análise\n",
    "plt.figure(figsize=(10, 6))\n",
    "plt.bar(analise_cf_df['nome_fantasia'], analise_cf_df['num_vendas'], label='Vendas')\n",
    "plt.bar(analise_cf_df['nome_fantasia'], analise_cf_df['num_compras'], bottom=analise_cf_df['num_vendas'], label='Compras')\n",
    "plt.title('Análise de Clientes e Fornecedores')\n",
    "plt.xlabel('Cliente/Fornecedor')\n",
    "plt.ylabel('Número de Transações')\n",
    "plt.xticks(rotation=45)\n",
    "plt.legend()\n",
    "plt.grid(True)\n",
    "plt.show()\n",
    "\n",
    "# Salvar resultados em CSV\n",
    "analise_cf_df.to_csv('../data/processed/analise_clientes_fornecedores.csv', index=False)\n"
   ]
  }
 ],
 "metadata": {
  "language_info": {
   "name": "python"
  }
 },
 "nbformat": 4,
 "nbformat_minor": 2
}
