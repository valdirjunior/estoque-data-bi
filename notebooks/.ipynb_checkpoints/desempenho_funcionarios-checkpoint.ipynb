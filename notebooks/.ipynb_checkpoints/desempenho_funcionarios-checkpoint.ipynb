{
 "cells": [
  {
   "cell_type": "code",
   "execution_count": null,
   "metadata": {},
   "outputs": [],
   "source": [
    "# desempenho_funcionarios.ipynb\n",
    "\n",
    "import pandas as pd\n",
    "import matplotlib.pyplot as plt\n",
    "\n",
    "# Carregar os dados\n",
    "funcionarios_df = pd.read_csv('../data/extracted/funcionarios.csv')\n",
    "movimentacoes_df = pd.read_csv('../data/extracted/movimentacoes.csv')\n",
    "\n",
    "# Analisar número de vendas/compras por funcionário\n",
    "movimentacoes_df['tipo_movimentacao'] = movimentacoes_df['tipo_movimentacao'].str.lower()\n",
    "vendas = movimentacoes_df[movimentacoes_df['tipo_movimentacao'] == 'S']\n",
    "compras = movimentacoes_df[movimentacoes_df['tipo_movimentacao'] == 'E']\n",
    "\n",
    "vendas_por_funcionario = vendas['funcionario_id'].value_counts().reset_index()\n",
    "compras_por_funcionario = compras['funcionario_id'].value_counts().reset_index()\n",
    "\n",
    "vendas_por_funcionario.columns = ['funcionario_id', 'num_vendas']\n",
    "compras_por_funcionario.columns = ['funcionario_id', 'num_compras']\n",
    "\n",
    "desempenho_funcionarios_df = funcionarios_df.merge(vendas_por_funcionario, left_on='id', right_on='funcionario_id', how='left').merge(compras_por_funcionario, left_on='id', right_on='funcionario_id', how='left').fillna(0)\n",
    "\n",
    "# Plotar desempenho\n",
    "plt.figure(figsize=(10, 6))\n",
    "plt.bar(desempenho_funcionarios_df['nome'], desempenho_funcionarios_df['num_vendas'], label='Vendas')\n",
    "plt.bar(desempenho_funcionarios_df['nome'], desempenho_funcionarios_df['num_compras'], bottom=desempenho_funcionarios_df['num_vendas'], label='Compras')\n",
    "plt.title('Desempenho dos Funcionários')\n",
    "plt.xlabel('Funcionário')\n",
    "plt.ylabel('Número de Transações')\n",
    "plt.xticks(rotation=45)\n",
    "plt.legend()\n",
    "plt.grid(True)\n",
    "plt.show()\n",
    "\n",
    "# Salvar resultados em CSV\n",
    "desempenho_funcionarios_df.to_csv('../data/processed/desempenho_funcionarios.csv', index=False)\n"
   ]
  }
 ],
 "metadata": {
  "language_info": {
   "name": "python"
  }
 },
 "nbformat": 4,
 "nbformat_minor": 2
}
