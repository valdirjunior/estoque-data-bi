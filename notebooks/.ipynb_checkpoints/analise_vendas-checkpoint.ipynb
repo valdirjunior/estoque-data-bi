{
 "cells": [
  {
   "cell_type": "code",
   "execution_count": null,
   "metadata": {},
   "outputs": [],
   "source": [
    "# analise_vendas.ipynb\n",
    "\n",
    "import pandas as pd\n",
    "import matplotlib.pyplot as plt\n",
    "\n",
    "# Carregar os dados\n",
    "movimentacoes_df = pd.read_csv('../data/extracted/movimentacoes.csv')\n",
    "movimentacoes_item_df = pd.read_csv('../data/extracted/movimentacoes_itens.csv')\n",
    "produtos_df = pd.read_csv('../data/extracted/produtos.csv')\n",
    "\n",
    "# Mesclando dados de movimentações com itens de movimentação\n",
    "movimentacoes_merged_df = movimentacoes_item_df.merge(movimentacoes_df, left_on='movimentacao_id', right_on='id')\n",
    "movimentacoes_merged_df = movimentacoes_merged_df.merge(produtos_df, left_on='produto_id', right_on='id', suffixes=('_mov', '_prod'))\n",
    "\n",
    "# Análise de receita total por mês\n",
    "movimentacoes_merged_df['criado_em'] = pd.to_datetime(movimentacoes_merged_df['criado_em_mov'])\n",
    "movimentacoes_merged_df['month'] = movimentacoes_merged_df['criado_em'].dt.to_period('M')\n",
    "\n",
    "monthly_revenue = movimentacoes_merged_df.groupby('month')['preco_venda'].sum().reset_index()\n",
    "\n",
    "# Plotar resultados\n",
    "plt.figure(figsize=(10, 6))\n",
    "plt.plot(monthly_revenue['month'].astype(str), monthly_revenue['preco_venda'], marker='o')\n",
    "plt.title('Receita Mensal')\n",
    "plt.xlabel('Mês')\n",
    "plt.ylabel('Receita')\n",
    "plt.xticks(rotation=45)\n",
    "plt.grid(True)\n",
    "plt.show()\n",
    "\n",
    "# Salvar resultados em CSV\n",
    "monthly_revenue.to_csv('../data/processed/monthly_revenue.csv', index=False)\n"
   ]
  }
 ],
 "metadata": {
  "language_info": {
   "name": "python"
  }
 },
 "nbformat": 4,
 "nbformat_minor": 2
}
