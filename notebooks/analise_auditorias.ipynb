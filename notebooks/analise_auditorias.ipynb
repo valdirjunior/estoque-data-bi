{
 "cells": [
  {
   "cell_type": "code",
   "execution_count": null,
   "metadata": {},
   "outputs": [],
   "source": [
    "# analise_auditorias.ipynb\n",
    "\n",
    "import pandas as pd\n",
    "import matplotlib.pyplot as plt\n",
    "\n",
    "# Carregar os dados\n",
    "auditorias_df = pd.read_csv('../data/extracted/auditorias.csv')\n",
    "\n",
    "# Análise de frequência de auditorias por tipo e tabela\n",
    "auditorias_por_tabela = auditorias_df['tabela'].value_counts().reset_index()\n",
    "auditorias_por_usuario = auditorias_df['usuario'].value_counts().reset_index()\n",
    "\n",
    "auditorias_por_tabela.columns = ['tabela', 'num_auditorias']\n",
    "auditorias_por_usuario.columns = ['usuario', 'num_auditorias']\n",
    "\n",
    "# Plotar auditorias por tabela\n",
    "plt.figure(figsize=(10, 6))\n",
    "plt.bar(auditorias_por_tabela['tabela'], auditorias_por_tabela['num_auditorias'])\n",
    "plt.title('Número de Auditorias por Tabela')\n",
    "plt.xlabel('Tabela')\n",
    "plt.ylabel('Número de Auditorias')\n",
    "plt.xticks(rotation=45)\n",
    "plt.grid(True)\n",
    "plt.show()\n",
    "\n",
    "# Plotar auditorias por usuário\n",
    "plt.figure(figsize=(10, 6))\n",
    "plt.bar(auditorias_por_usuario['usuario'], auditorias_por_usuario['num_auditorias'])\n",
    "plt.title('Número de Auditorias por Usuário')\n",
    "plt.xlabel('Usuário')\n",
    "plt.ylabel('Número de Auditorias')\n",
    "plt.xticks(rotation=45)\n",
    "plt.grid(True)\n",
    "plt.show()\n",
    "\n",
    "# Salvar resultados em CSV\n",
    "auditorias_por_tabela.to_csv('../data/processed/auditorias_por_tabela.csv', index=False)\n",
    "auditorias_por_usuario.to_csv('../data/processed/auditorias_por_usuario.csv', index=False)\n"
   ]
  }
 ],
 "metadata": {
  "language_info": {
   "name": "python"
  }
 },
 "nbformat": 4,
 "nbformat_minor": 2
}
