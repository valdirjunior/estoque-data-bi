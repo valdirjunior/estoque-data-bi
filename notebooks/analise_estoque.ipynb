{
 "cells": [
  {
   "cell_type": "code",
   "execution_count": null,
   "metadata": {},
   "outputs": [],
   "source": [
    "# analise_estoque.ipynb\n",
    "\n",
    "import pandas as pd\n",
    "import matplotlib.pyplot as plt\n",
    "\n",
    "# Carregar os dados\n",
    "produtos_df = pd.read_csv('../data/extracted/produtos.csv')\n",
    "\n",
    "# Análise de níveis de estoque\n",
    "produtos_df = produtos_df[['descricao', 'quantidade', 'preco_custo', 'preco_venda']]\n",
    "\n",
    "# Plotar níveis de estoque\n",
    "plt.figure(figsize=(10, 6))\n",
    "plt.bar(produtos_df['descricao'], produtos_df['quantidade'])\n",
    "plt.title('Níveis de Estoque por Produto')\n",
    "plt.xlabel('Produto')\n",
    "plt.ylabel('Quantidade')\n",
    "plt.xticks(rotation=45)\n",
    "plt.grid(True)\n",
    "plt.show()\n",
    "\n",
    "# Identificar produtos com alta e baixa rotatividade\n",
    "alta_rotatividade = produtos_df[produtos_df['quantidade'] < 20]\n",
    "baixa_rotatividade = produtos_df[produtos_df['quantidade'] > 100]\n",
    "\n",
    "# Salvar resultados em CSV\n",
    "alta_rotatividade.to_csv('../data/processed/alta_rotatividade.csv', index=False)\n",
    "baixa_rotatividade.to_csv('../data/processed/baixa_rotatividade.csv', index=False)\n"
   ]
  }
 ],
 "metadata": {
  "language_info": {
   "name": "python"
  }
 },
 "nbformat": 4,
 "nbformat_minor": 2
}
